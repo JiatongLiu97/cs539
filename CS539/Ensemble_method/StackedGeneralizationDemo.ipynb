{
 "cells": [
  {
   "cell_type": "markdown",
   "metadata": {
    "id": "Pda6nHRxsrU_"
   },
   "source": [
    "# Train Ensemble of Bagged Classification Trees\n",
    "\n",
    "Load Fisher's Iris Dataset."
   ]
  },
  {
   "cell_type": "code",
   "execution_count": 1,
   "metadata": {
    "id": "QgTDYd2Ysq8C"
   },
   "outputs": [],
   "source": [
    "import pandas as pd\n",
    "import numpy as np\n",
    "\n",
    "# tmp = pd.read_csv('iris.csv', header=None).to_numpy()  # pandas does not work!\n",
    "tmp = np.genfromtxt('iris.csv',delimiter=',')\n",
    "K = tmp.shape[0]\n",
    "X = tmp[:,0:4]\n",
    "Y = tmp[:,4]\n",
    "nc = [np.sum(Y == 1), np.sum(Y == 2), np.sum(Y == 3)]"
   ]
  },
  {
   "cell_type": "markdown",
   "metadata": {
    "id": "9hyuo_aPty2h"
   },
   "source": [
    "Partition the data into Training and Testing (7:3 split)"
   ]
  },
  {
   "cell_type": "code",
   "execution_count": 2,
   "metadata": {
    "id": "DgDvwCM-tyCF"
   },
   "outputs": [],
   "source": [
    "from sklearn.model_selection import train_test_split\n",
    "\n",
    "X_train, X_test, y_train, y_test = train_test_split(X, Y, test_size=0.30, shuffle=None)"
   ]
  },
  {
   "cell_type": "markdown",
   "metadata": {
    "id": "fMQL11pc7VJz"
   },
   "source": [
    "2. Train Several classifiers and obtain their output of the training datasets (bags). Bags are randomly "
   ]
  },
  {
   "cell_type": "code",
   "execution_count": 3,
   "metadata": {
    "id": "zUdWZ62ovgmT"
   },
   "outputs": [],
   "source": [
    "from sklearn.tree import DecisionTreeClassifier\n",
    "from sklearn.neighbors import KNeighborsClassifier\n",
    "from sklearn.naive_bayes import GaussianNB\n",
    "from numpy.random import permutation\n",
    "nr = X_train.shape[0]\n",
    "Kb = int(np.ceil(0.9*nr))\n",
    "\n",
    "# (a) First use naive bayesian\n",
    "bidx = permutation(nr)[0:Kb]\n",
    "gnb = GaussianNB()\n",
    "gnb.fit(X_train[bidx,:], y_train[bidx])\n",
    "ynb = gnb.predict(X_train)\n",
    "vnb = gnb.predict(X_test)\n",
    "# (b) Next use knn k = 3\n",
    "bidx1 = permutation(nr)[0:Kb]\n",
    "knn = KNeighborsClassifier(n_neighbors=3)\n",
    "knn.fit(X_train[bidx1,:], y_train[bidx1])\n",
    "yknn = knn.predict(X_train)\n",
    "vknn = knn.predict(X_test)\n",
    "# (C) Next use Decision Tree\n",
    "bidx2 = permutation(nr)[0:Kb]\n",
    "dtc = DecisionTreeClassifier(random_state=0)\n",
    "dtc = dtc.fit(X_train[bidx2,:], y_train[bidx2])\n",
    "ytree = dtc.predict(X_train)\n",
    "vtree = dtc.predict(X_test)"
   ]
  },
  {
   "cell_type": "markdown",
   "metadata": {
    "id": "IkK2c_4T7xV_"
   },
   "source": [
    "3. Combine output of Ynb, Yknn, Ytree into a new feature matrix and train a classifier using Xc with label Yr. Then test. \n"
   ]
  },
  {
   "cell_type": "code",
   "execution_count": 4,
   "metadata": {
    "colab": {
     "base_uri": "https://localhost:8080/",
     "height": 248
    },
    "id": "760iqVx-KuXt",
    "outputId": "965c6e32-e34d-4536-f480-6bab7200309c"
   },
   "outputs": [
    {
     "name": "stdout",
     "output_type": "stream",
     "text": [
      "[1. 1. 2. 3. 1. 3. 2. 3. 3. 2. 2. 2. 3. 3. 1. 1. 3. 2. 1. 3. 3. 3. 2. 2.\n",
      " 3. 1. 2. 2. 1. 1. 2. 2. 1. 1. 2. 1. 2. 2. 1. 1. 1. 3. 1. 3. 3.]\n"
     ]
    },
    {
     "data": {
      "image/png": "[encoded data removed]",
      "text/plain": [
       "<Figure size 432x288 with 1 Axes>"
      ]
     },
     "metadata": {
      "needs_background": "light"
     },
     "output_type": "display_data"
    }
   ],
   "source": [
    "import matplotlib.pyplot as plt\n",
    "from sklearn.tree import plot_tree\n",
    "\n",
    "dec = DecisionTreeClassifier()\n",
    "dec.fit(np.mat([ynb,yknn,ytree]).T,y_train)\n",
    "ycomb = dec.predict(np.mat([ynb,yknn,ytree]).T)\n",
    "vcomb = dec.predict(np.mat([vnb,vknn,vtree]).T)\n",
    "print(vcomb)\n",
    "\n",
    "plot_tree(dec)\n",
    "plt.show()\n"
   ]
  },
  {
   "cell_type": "markdown",
   "metadata": {
    "id": "9IZj708EzkQ_"
   },
   "source": [
    "4. Compare results"
   ]
  },
  {
   "cell_type": "code",
   "execution_count": 5,
   "metadata": {
    "colab": {
     "base_uri": "https://localhost:8080/"
    },
    "id": "wLnjQTHwzbyS",
    "outputId": "1dd8889b-882d-4c6f-a7b0-5ed852c00848"
   },
   "outputs": [
    {
     "name": "stdout",
     "output_type": "stream",
     "text": [
      "Naive Bayes: \n",
      "[[16  0  0]\n",
      " [ 0 16  1]\n",
      " [ 0  0 12]]\n",
      "Knn: \n",
      "[[16  0  0]\n",
      " [ 0 16  1]\n",
      " [ 0  0 12]]\n",
      "Decision Tree: \n",
      "[[16  0  0]\n",
      " [ 0 15  2]\n",
      " [ 0  0 12]]\n",
      "Combined: \n",
      "[[16  0  0]\n",
      " [ 0 15  2]\n",
      " [ 0  0 12]]\n"
     ]
    }
   ],
   "source": [
    " from sklearn.metrics import confusion_matrix\n",
    "\n",
    "Cmatnb = confusion_matrix(y_test, vnb)\n",
    "Cmatknn = confusion_matrix(y_test, vknn)\n",
    "Cmattree = confusion_matrix(y_test, vtree)\n",
    "Cmatcomb = confusion_matrix(y_test, vcomb)\n",
    "\n",
    "print(\"Naive Bayes: \")\n",
    "print(Cmatnb)\n",
    "print(\"Knn: \")\n",
    "print(Cmatknn)\n",
    "print(\"Decision Tree: \")\n",
    "print(Cmattree)\n",
    "print(\"Combined: \")\n",
    "print(Cmatcomb)"
   ]
  },
  {
   "cell_type": "markdown",
   "metadata": {
    "id": "MBWtTChKNvgy"
   },
   "source": [
    "Write CSV files"
   ]
  },
  {
   "cell_type": "code",
   "execution_count": 6,
   "metadata": {
    "id": "5ykf3dlpPgU1"
   },
   "outputs": [],
   "source": [
    "# Training data member classifiers' output and label\n",
    "outr = np.mat([ynb, yknn, ytree, ycomb, y_train]).T\n",
    "np.savetxt(\"outr.csv\", outr, delimiter=\",\")\n",
    "# Validation output, nb, knn, tree, combined.\n",
    "outv = np.mat([vnb, vknn, vtree, vcomb, y_test]).T\n",
    "np.savetxt(\"outv.csv\", outv, delimiter=\",\")\n"
   ]
  },
  {
   "cell_type": "code",
   "execution_count": 7,
   "metadata": {},
   "outputs": [
    {
     "ename": "NameError",
     "evalue": "name 'iris' is not defined",
     "output_type": "error",
     "traceback": [
      "\u001b[1;31m---------------------------------------------------------------------------\u001b[0m",
      "\u001b[1;31mNameError\u001b[0m                                 Traceback (most recent call last)",
      "\u001b[1;32m<ipython-input-7-69b17826f033>\u001b[0m in \u001b[0;36m<module>\u001b[1;34m\u001b[0m\n\u001b[1;32m----> 1\u001b[1;33m \u001b[0mprint\u001b[0m\u001b[1;33m(\u001b[0m\u001b[0miris\u001b[0m\u001b[1;33m.\u001b[0m\u001b[0mfeature_names\u001b[0m\u001b[1;33m)\u001b[0m\u001b[1;33m\u001b[0m\u001b[1;33m\u001b[0m\u001b[0m\n\u001b[0m",
      "\u001b[1;31mNameError\u001b[0m: name 'iris' is not defined"
     ]
    }
   ],
   "source": [
    "print(iris.feature_names)"
   ]
  },
  {
   "cell_type": "code",
   "execution_count": null,
   "metadata": {},
   "outputs": [],
   "source": []
  }
 ],
 "metadata": {
  "colab": {
   "collapsed_sections": [],
   "name": "StackedGeneralizationDemo.ipynb",
   "provenance": [],
   "toc_visible": true
  },
  "kernelspec": {
   "display_name": "Python 3",
   "language": "python",
   "name": "python3"
  },
  "language_info": {
   "codemirror_mode": {
    "name": "ipython",
    "version": 3
   },
   "file_extension": ".py",
   "mimetype": "text/x-python",
   "name": "python",
   "nbconvert_exporter": "python",
   "pygments_lexer": "ipython3",
   "version": "3.8.8"
  }
 },
 "nbformat": 4,
 "nbformat_minor": 1
}
