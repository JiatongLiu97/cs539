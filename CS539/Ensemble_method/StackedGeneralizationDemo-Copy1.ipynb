{
 "cells": [
  {
   "cell_type": "markdown",
   "metadata": {},
   "source": [
    "1.\n",
    "(a)\n",
    "After we use majority voting combination rule instead of the original combination rule, there is only one line[38] in file outv would be changed which also means that at this line, the vvote is different to vcomb, vvote is 3 but vcomb is 2. But Yv is 3, so vvote generates better result than vcomb."
   ]
  },
  {
   "cell_type": "code",
   "execution_count": 13,
   "metadata": {},
   "outputs": [
    {
     "name": "stdout",
     "output_type": "stream",
     "text": [
      "[[2. 2. 2. 2. 2.]\n",
      " [3. 3. 2. 2. 3.]\n",
      " [1. 1. 1. 1. 1.]\n",
      " [2. 2. 2. 2. 2.]\n",
      " [2. 2. 2. 2. 3.]\n",
      " [3. 3. 3. 3. 3.]\n",
      " [1. 1. 1. 1. 1.]\n",
      " [2. 2. 2. 2. 2.]\n",
      " [1. 1. 1. 1. 1.]\n",
      " [2. 3. 3. 3. 3.]\n",
      " [1. 1. 1. 1. 1.]\n",
      " [1. 1. 1. 1. 1.]\n",
      " [3. 3. 3. 3. 3.]\n",
      " [3. 3. 3. 3. 3.]\n",
      " [2. 2. 2. 2. 2.]\n",
      " [3. 3. 3. 3. 3.]\n",
      " [2. 2. 2. 2. 2.]\n",
      " [2. 2. 2. 2. 2.]\n",
      " [1. 1. 1. 1. 1.]\n",
      " [2. 2. 2. 2. 2.]\n",
      " [3. 3. 3. 3. 3.]\n",
      " [3. 3. 3. 3. 3.]\n",
      " [3. 3. 3. 3. 3.]\n",
      " [1. 1. 1. 1. 1.]\n",
      " [2. 3. 3. 3. 2.]\n",
      " [2. 2. 2. 2. 2.]\n",
      " [2. 2. 2. 2. 2.]\n",
      " [1. 1. 1. 1. 1.]\n",
      " [3. 3. 3. 3. 3.]\n",
      " [1. 1. 1. 1. 1.]\n",
      " [2. 2. 2. 2. 2.]\n",
      " [2. 2. 2. 2. 2.]\n",
      " [1. 1. 1. 1. 1.]\n",
      " [1. 1. 1. 1. 1.]\n",
      " [2. 2. 2. 2. 2.]\n",
      " [1. 1. 1. 1. 1.]\n",
      " [3. 3. 3. 3. 3.]\n",
      " [3. 3. 2. 2. 3.]\n",
      " [2. 2. 2. 2. 2.]\n",
      " [2. 2. 2. 2. 2.]\n",
      " [1. 1. 1. 1. 1.]\n",
      " [2. 2. 2. 2. 2.]\n",
      " [3. 3. 3. 3. 3.]\n",
      " [2. 2. 2. 2. 2.]\n",
      " [1. 1. 1. 1. 1.]]\n",
      "[[2. 2. 2.]\n",
      " [3. 3. 2.]\n",
      " [1. 1. 1.]\n",
      " [2. 2. 2.]\n",
      " [2. 2. 2.]\n",
      " [3. 3. 3.]\n",
      " [1. 1. 1.]\n",
      " [2. 2. 2.]\n",
      " [1. 1. 1.]\n",
      " [2. 3. 3.]\n",
      " [1. 1. 1.]\n",
      " [1. 1. 1.]\n",
      " [3. 3. 3.]\n",
      " [3. 3. 3.]\n",
      " [2. 2. 2.]\n",
      " [3. 3. 3.]\n",
      " [2. 2. 2.]\n",
      " [2. 2. 2.]\n",
      " [1. 1. 1.]\n",
      " [2. 2. 2.]\n",
      " [3. 3. 3.]\n",
      " [3. 3. 3.]\n",
      " [3. 3. 3.]\n",
      " [1. 1. 1.]\n",
      " [2. 3. 3.]\n",
      " [2. 2. 2.]\n",
      " [2. 2. 2.]\n",
      " [1. 1. 1.]\n",
      " [3. 3. 3.]\n",
      " [1. 1. 1.]\n",
      " [2. 2. 2.]\n",
      " [2. 2. 2.]\n",
      " [1. 1. 1.]\n",
      " [1. 1. 1.]\n",
      " [2. 2. 2.]\n",
      " [1. 1. 1.]\n",
      " [3. 3. 3.]\n",
      " [3. 3. 2.]\n",
      " [2. 2. 2.]\n",
      " [2. 2. 2.]\n",
      " [1. 1. 1.]\n",
      " [2. 2. 2.]\n",
      " [3. 3. 3.]\n",
      " [2. 2. 2.]\n",
      " [1. 1. 1.]]\n"
     ]
    }
   ],
   "source": [
    "import pandas as pd\n",
    "import numpy as np\n",
    "\n",
    "# tmp = pd.read_csv('outv.csv', header=None).to_numpy()  # pandas does not work!\n",
    "tmp = np.genfromtxt('outv.csv',delimiter=',')\n",
    "K = tmp.shape[0]\n",
    "print(tmp)\n",
    "\n",
    "Yv = tmp[:,0:3]\n",
    "\n",
    "print(Yv)"
   ]
  },
  {
   "cell_type": "code",
   "execution_count": 2,
   "metadata": {
    "colab": {
     "base_uri": "https://localhost:8080/"
    },
    "id": "wLnjQTHwzbyS",
    "outputId": "1dd8889b-882d-4c6f-a7b0-5ed852c00848"
   },
   "outputs": [
    {
     "name": "stdout",
     "output_type": "stream",
     "text": [
      "Cmatvote: \n",
      "[[14  0  0]\n",
      " [ 0 16  1]\n",
      " [ 0  3 11]]\n"
     ]
    }
   ],
   "source": [
    "from sklearn.metrics import confusion_matrix\n",
    "\n",
    "Cmatcomb = confusion_matrix(Yv, vvote)\n",
    "\n",
    "print(\"Cmatvote: \")\n",
    "print(Cmatcomb)"
   ]
  },
  {
   "cell_type": "markdown",
   "metadata": {},
   "source": [
    "ynb         yknn        ytree       Yr\n",
    "3.00E+00\t3.00E+00\t3.00E+00\t3.00E+00\n",
    "2.00E+00\t2.00E+00\t2.00E+00\t2.00E+00\n",
    "1.00E+00\t1.00E+00\t1.00E+00\t1.00E+00\n",
    "3.00E+00\t3.00E+00\t2.00E+00\t2.00E+00\n",
    "2.00E+00\t3.00E+00\t3.00E+00\t2.00E+00\n",
    "3.00E+00\t2.00E+00\t2.00E+00\t2.00E+00\n",
    "2.00E+00\t2.00E+00\t3.00E+00\t2.00E+00\n",
    "2.00E+00\t3.00E+00\t3.00E+00\t3.00E+00\n",
    "\n",
    "Above is the combination rule table."
   ]
  },
  {
   "cell_type": "code",
   "execution_count": 3,
   "metadata": {},
   "outputs": [
    {
     "name": "stdout",
     "output_type": "stream",
     "text": [
      "Cmatmanual. : \n",
      "[[14  0  0]\n",
      " [ 0 16  1]\n",
      " [ 0  3 11]]\n"
     ]
    }
   ],
   "source": [
    "# tmp = pd.read_csv('outv.csv', header=None).to_numpy()  # pandas does not work!\n",
    "tmp = np.genfromtxt('outv.csv',delimiter=',')\n",
    "K = tmp.shape[0]\n",
    "print(K)\n",
    "vvote = tmp[:,3]\n",
    "Yv = tmp[:,4]\n",
    "\n",
    "Cmatcomb = confusion_matrix(Yv, vvote)\n",
    "\n",
    "print(\"Cmatmanual. : \")\n",
    "print(Cmatcomb)"
   ]
  },
  {
   "cell_type": "markdown",
   "metadata": {
    "id": "MBWtTChKNvgy"
   },
   "source": [
    "Write CSV files"
   ]
  },
  {
   "cell_type": "code",
   "execution_count": null,
   "metadata": {},
   "outputs": [],
   "source": []
  }
 ],
 "metadata": {
  "colab": {
   "collapsed_sections": [],
   "name": "StackedGeneralizationDemo.ipynb",
   "provenance": [],
   "toc_visible": true
  },
  "kernelspec": {
   "display_name": "Python 3",
   "language": "python",
   "name": "python3"
  },
  "language_info": {
   "codemirror_mode": {
    "name": "ipython",
    "version": 3
   },
   "file_extension": ".py",
   "mimetype": "text/x-python",
   "name": "python",
   "nbconvert_exporter": "python",
   "pygments_lexer": "ipython3",
   "version": "3.8.8"
  }
 },
 "nbformat": 4,
 "nbformat_minor": 1
}
